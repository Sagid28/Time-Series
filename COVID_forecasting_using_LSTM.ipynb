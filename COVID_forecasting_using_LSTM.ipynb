{
 "cells": [
  {
   "cell_type": "markdown",
   "id": "54e384c1",
   "metadata": {},
   "source": [
    "**The flow of the Notebook:**\n",
    "\n",
    "1. Description of the Problem Statement.\n",
    "\n",
    "2. Covid-19 Dataset Loading.\n",
    "\n",
    "3. Check The Dataset.\n",
    "\n",
    "4. Data Preprocessing.\n",
    "\n",
    "5. Build a Simple LSTM Model.\n",
    "\n",
    "6. Train The Model.\n",
    "\n",
    "7. Prediction"
   ]
  },
  {
   "cell_type": "markdown",
   "id": "9d76dc70",
   "metadata": {},
   "source": [
    "**Problem Statement:**\n",
    "\n",
    "Analyzing a global COVID-19 time series dataset to gain insights into the spread of the virus and develop a predictive model to forecast COVID-19 cases for a specific country using Long Short-Term Memory (LSTM) neural networks. The goal is to provide accurate predictions of future COVID-19 cases for informed decision-making and resource allocation."
   ]
  },
  {
   "cell_type": "markdown",
   "id": "33673820",
   "metadata": {},
   "source": [
    "**Import Libraries**"
   ]
  },
  {
   "cell_type": "code",
   "execution_count": 4,
   "id": "5db81890",
   "metadata": {},
   "outputs": [],
   "source": [
    "import numpy as np\n",
    "import matplotlib.pyplot as plt\n",
    "from pandas import read_csv\n",
    "import pandas as pd\n",
    "import math\n",
    "import tensorflow as tf\n",
    "from tensorflow.keras.models import Model\n",
    "from tensorflow.keras.layers import Input, LSTM, Dense, Flatten, Bidirectional, ConvLSTM2D\n",
    "from sklearn.preprocessing import MinMaxScaler\n",
    "from sklearn.metrics import mean_squared_error\n",
    "from tensorflow.keras.preprocessing.sequence import TimeseriesGenerator"
   ]
  },
  {
   "cell_type": "markdown",
   "id": "e14b5b1a",
   "metadata": {},
   "source": [
    "**Choose a specific country for prediction Covid-19 cases of this country**"
   ]
  },
  {
   "cell_type": "code",
   "execution_count": 5,
   "id": "122d8737",
   "metadata": {},
   "outputs": [],
   "source": [
    "country = \"Japan\""
   ]
  },
  {
   "cell_type": "markdown",
   "id": "97672e34",
   "metadata": {},
   "source": [
    "**Load The Dataset and analsis COVID-19 confirmed cases**"
   ]
  },
  {
   "cell_type": "code",
   "execution_count": 6,
   "id": "a016aa09",
   "metadata": {},
   "outputs": [
    {
     "name": "stdout",
     "output_type": "stream",
     "text": [
      "Total days in the dataset 1143\n"
     ]
    },
    {
     "data": {
      "image/png": "[encoded data removed]",
      "text/plain": [
       "<Figure size 1000x500 with 1 Axes>"
      ]
     },
     "metadata": {},
     "output_type": "display_data"
    }
   ],
   "source": [
    "# Total COVID confirmed cases\n",
    "df_confirmed = pd.read_csv(\n",
    "    \"https://raw.githubusercontent.com/CSSEGISandData/COVID-19/master/csse_covid_19_data/csse_covid_19_time_series/time_series_covid19_confirmed_global.csv\")\n",
    "\n",
    "df_confirmed_country = df_confirmed[df_confirmed[\"Country/Region\"] == country]\n",
    "df_confirmed_country = pd.DataFrame(df_confirmed_country[df_confirmed_country.columns[4:]].sum(), columns=[\"confirmed\"])\n",
    "df_confirmed_country.index = pd.to_datetime(df_confirmed_country.index, format='%m/%d/%y')\n",
    "\n",
    "df_confirmed_country.plot(figsize=(10, 5), title=\"COVID confirmed cases\")\n",
    "\n",
    "df_confirmed_country.tail(10)\n",
    "\n",
    "print(\"Total days in the dataset\", len(df_confirmed_country))"
   ]
  },
  {
   "cell_type": "markdown",
   "id": "8cb36bde",
   "metadata": {},
   "source": [
    "**Data Preprocessing**"
   ]
  },
  {
   "cell_type": "code",
   "execution_count": 7,
   "id": "b6a929d4",
   "metadata": {},
   "outputs": [],
   "source": [
    "# Use data until 14 days before as training\n",
    "x = len(df_confirmed_country) - 14\n",
    "\n",
    "train = df_confirmed_country.iloc[:x]\n",
    "test = df_confirmed_country.iloc[x:]"
   ]
  },
  {
   "cell_type": "code",
   "execution_count": 8,
   "id": "507e55db",
   "metadata": {},
   "outputs": [],
   "source": [
    "# scale or normalize data as the data is too skewed\n",
    "scaler = MinMaxScaler()\n",
    "scaler.fit(train)\n",
    "\n",
    "train_scaled = scaler.transform(train)\n",
    "test_scaled = scaler.transform(test)"
   ]
  },
  {
   "cell_type": "code",
   "execution_count": 9,
   "id": "054ded68",
   "metadata": {},
   "outputs": [
    {
     "name": "stdout",
     "output_type": "stream",
     "text": [
      "Total number of samples in the original training data =  1129\n",
      "Total number of samples in the generated data =  1122\n"
     ]
    }
   ],
   "source": [
    "# Use TimeseriesGenerator to generate data in sequences\n",
    "seq_size = 7  # number of steps (lookback)\n",
    "n_features = 1  # number of features. This dataset is univariate so it is 1\n",
    "train_generator = TimeseriesGenerator(train_scaled, train_scaled, length=seq_size, batch_size=1)\n",
    "print(\"Total number of samples in the original training data = \", len(train))  # 271\n",
    "print(\"Total number of samples in the generated data = \", len(train_generator))  # 264 with seq_size=7"
   ]
  },
  {
   "cell_type": "code",
   "execution_count": 10,
   "id": "c265b409",
   "metadata": {},
   "outputs": [],
   "source": [
    "# Check data shape from generator\n",
    "x, y = train_generator[10]  # Check train_generator\n",
    "# Takes 7 days as x and 8th day as y (for seq_size=7)"
   ]
  },
  {
   "cell_type": "code",
   "execution_count": 11,
   "id": "15fb675c",
   "metadata": {},
   "outputs": [
    {
     "name": "stdout",
     "output_type": "stream",
     "text": [
      "Total number of samples in the original training data =  14\n",
      "Total number of samples in the generated data =  7\n"
     ]
    }
   ],
   "source": [
    "# Also generate test data\n",
    "test_generator = TimeseriesGenerator(test_scaled, test_scaled, length=seq_size, batch_size=1)\n",
    "print(\"Total number of samples in the original training data = \", len(test))  # 14 as we're using last 14 days for test\n",
    "print(\"Total number of samples in the generated data = \", len(test_generator))  # 7\n",
    "# Check data shape from generator\n",
    "x, y = test_generator[0]"
   ]
  },
  {
   "cell_type": "markdown",
   "id": "f37a438b",
   "metadata": {},
   "source": [
    "**Build a Simple LSTM Model**"
   ]
  },
  {
   "cell_type": "code",
   "execution_count": 12,
   "id": "1c7a3ee9",
   "metadata": {},
   "outputs": [
    {
     "name": "stdout",
     "output_type": "stream",
     "text": [
      "Model: \"model\"\n",
      "_________________________________________________________________\n",
      " Layer (type)                Output Shape              Param #   \n",
      "=================================================================\n",
      " input_1 (InputLayer)        [(None, 7, 1)]            0         \n",
      "                                                                 \n",
      " lstm (LSTM)                 (None, 7, 150)            91200     \n",
      "                                                                 \n",
      " lstm_1 (LSTM)               (None, 64)                55040     \n",
      "                                                                 \n",
      " dense (Dense)               (None, 64)                4160      \n",
      "                                                                 \n",
      " dense_1 (Dense)             (None, 1)                 65        \n",
      "                                                                 \n",
      "=================================================================\n",
      "Total params: 150,465\n",
      "Trainable params: 150,465\n",
      "Non-trainable params: 0\n",
      "_________________________________________________________________\n",
      "Train...\n"
     ]
    }
   ],
   "source": [
    "# Define Model\n",
    "input_layer = Input(shape=(seq_size, n_features))\n",
    "lstm1 = LSTM(150, activation='relu', return_sequences=True)(input_layer)\n",
    "lstm2 = LSTM(64, activation='relu')(lstm1)\n",
    "dense1 = Dense(64)(lstm2)\n",
    "output_layer = Dense(1)(dense1)\n",
    "\n",
    "model = Model(inputs=input_layer, outputs=output_layer)\n",
    "\n",
    "model.compile(optimizer='adam', loss='mean_squared_error')\n",
    "\n",
    "model.summary()\n",
    "print('Train...')"
   ]
  },
  {
   "cell_type": "markdown",
   "id": "85395a1b",
   "metadata": {},
   "source": [
    "**Train The Model**"
   ]
  },
  {
   "cell_type": "code",
   "execution_count": 13,
   "id": "aa4d74ab",
   "metadata": {},
   "outputs": [
    {
     "name": "stdout",
     "output_type": "stream",
     "text": [
      "Epoch 1/50\n"
     ]
    },
    {
     "name": "stderr",
     "output_type": "stream",
     "text": [
      "C:\\Users\\sazid\\AppData\\Local\\Temp\\ipykernel_28840\\1350031766.py:1: UserWarning: `Model.fit_generator` is deprecated and will be removed in a future version. Please use `Model.fit`, which supports generators.\n",
      "  history = model.fit_generator(train_generator,\n"
     ]
    },
    {
     "name": "stdout",
     "output_type": "stream",
     "text": [
      "10/10 [==============================] - 5s 122ms/step - loss: 0.1135 - val_loss: 0.6460\n",
      "Epoch 2/50\n",
      "10/10 [==============================] - 0s 18ms/step - loss: 0.0710 - val_loss: 0.2960\n",
      "Epoch 3/50\n",
      "10/10 [==============================] - 0s 18ms/step - loss: 0.0293 - val_loss: 0.1320\n",
      "Epoch 4/50\n",
      "10/10 [==============================] - 0s 19ms/step - loss: 0.0088 - val_loss: 0.0335\n",
      "Epoch 5/50\n",
      "10/10 [==============================] - 0s 18ms/step - loss: 0.0436 - val_loss: 0.1773\n",
      "Epoch 6/50\n",
      "10/10 [==============================] - 0s 17ms/step - loss: 0.0125 - val_loss: 0.1262\n",
      "Epoch 7/50\n",
      "10/10 [==============================] - 0s 17ms/step - loss: 0.0270 - val_loss: 0.0711\n",
      "Epoch 8/50\n",
      "10/10 [==============================] - 0s 17ms/step - loss: 0.0039 - val_loss: 0.0406\n",
      "Epoch 9/50\n",
      "10/10 [==============================] - 0s 18ms/step - loss: 0.0057 - val_loss: 0.0218\n",
      "Epoch 10/50\n",
      "10/10 [==============================] - 0s 50ms/step - loss: 0.0063 - val_loss: 0.0090\n",
      "Epoch 11/50\n",
      "10/10 [==============================] - 0s 18ms/step - loss: 6.9282e-04 - val_loss: 0.0159\n",
      "Epoch 12/50\n",
      "10/10 [==============================] - 0s 18ms/step - loss: 0.0020 - val_loss: 0.0011\n",
      "Epoch 13/50\n",
      "10/10 [==============================] - 0s 18ms/step - loss: 3.5151e-04 - val_loss: 3.0945e-05\n",
      "Epoch 14/50\n",
      "10/10 [==============================] - 0s 18ms/step - loss: 1.6827e-04 - val_loss: 6.5477e-04\n",
      "Epoch 15/50\n",
      "10/10 [==============================] - 0s 18ms/step - loss: 1.9366e-04 - val_loss: 0.0013\n",
      "Epoch 16/50\n",
      "10/10 [==============================] - 0s 18ms/step - loss: 1.4399e-04 - val_loss: 6.7144e-04\n",
      "Epoch 17/50\n",
      "10/10 [==============================] - 0s 18ms/step - loss: 8.7922e-05 - val_loss: 2.0300e-04\n",
      "Epoch 18/50\n",
      "10/10 [==============================] - 0s 19ms/step - loss: 1.1492e-04 - val_loss: 3.3903e-06\n",
      "Epoch 19/50\n",
      "10/10 [==============================] - 0s 17ms/step - loss: 5.4056e-05 - val_loss: 8.9980e-05\n",
      "Epoch 20/50\n",
      "10/10 [==============================] - 0s 17ms/step - loss: 2.5841e-05 - val_loss: 1.4677e-04\n",
      "Epoch 21/50\n",
      "10/10 [==============================] - 0s 17ms/step - loss: 4.1582e-05 - val_loss: 1.5755e-04\n",
      "Epoch 22/50\n",
      "10/10 [==============================] - 0s 17ms/step - loss: 2.8350e-05 - val_loss: 0.0011\n",
      "Epoch 23/50\n",
      "10/10 [==============================] - 0s 17ms/step - loss: 1.0473e-04 - val_loss: 6.2207e-04\n",
      "Epoch 24/50\n",
      "10/10 [==============================] - 0s 16ms/step - loss: 1.1369e-04 - val_loss: 7.3524e-06\n",
      "Epoch 25/50\n",
      "10/10 [==============================] - 0s 16ms/step - loss: 4.8706e-05 - val_loss: 3.5287e-05\n",
      "Epoch 26/50\n",
      "10/10 [==============================] - 0s 16ms/step - loss: 4.1837e-05 - val_loss: 4.4488e-04\n",
      "Epoch 27/50\n",
      "10/10 [==============================] - 0s 16ms/step - loss: 9.0976e-06 - val_loss: 0.0011\n",
      "Epoch 28/50\n",
      "10/10 [==============================] - 0s 16ms/step - loss: 4.1436e-05 - val_loss: 0.0012\n",
      "Epoch 29/50\n",
      "10/10 [==============================] - 0s 16ms/step - loss: 2.4526e-05 - val_loss: 0.0018\n",
      "Epoch 30/50\n",
      "10/10 [==============================] - 0s 15ms/step - loss: 6.9129e-05 - val_loss: 1.9436e-05\n",
      "Epoch 31/50\n",
      "10/10 [==============================] - 0s 16ms/step - loss: 3.9199e-05 - val_loss: 5.2829e-05\n",
      "Epoch 32/50\n",
      "10/10 [==============================] - 0s 17ms/step - loss: 2.7762e-05 - val_loss: 9.5415e-04\n",
      "Epoch 33/50\n",
      "10/10 [==============================] - 0s 17ms/step - loss: 3.4473e-05 - val_loss: 0.0026\n",
      "Epoch 34/50\n",
      "10/10 [==============================] - 0s 16ms/step - loss: 1.0836e-04 - val_loss: 0.0030\n",
      "Epoch 35/50\n",
      "10/10 [==============================] - 0s 17ms/step - loss: 7.7130e-05 - val_loss: 2.1918e-04\n",
      "Epoch 36/50\n",
      "10/10 [==============================] - 0s 16ms/step - loss: 3.2118e-04 - val_loss: 7.8128e-05\n",
      "Epoch 37/50\n",
      "10/10 [==============================] - 0s 16ms/step - loss: 8.7469e-05 - val_loss: 0.0019\n",
      "Epoch 38/50\n",
      "10/10 [==============================] - 0s 15ms/step - loss: 1.2393e-04 - val_loss: 6.0831e-04\n",
      "Epoch 39/50\n",
      "10/10 [==============================] - 0s 15ms/step - loss: 1.1078e-04 - val_loss: 0.0018\n",
      "Epoch 40/50\n",
      "10/10 [==============================] - 0s 17ms/step - loss: 7.5784e-05 - val_loss: 4.4936e-04\n",
      "Epoch 41/50\n",
      "10/10 [==============================] - 0s 16ms/step - loss: 4.8588e-05 - val_loss: 9.5220e-05\n",
      "Epoch 42/50\n",
      "10/10 [==============================] - 0s 15ms/step - loss: 1.4456e-04 - val_loss: 4.9776e-04\n",
      "Epoch 43/50\n",
      "10/10 [==============================] - 0s 16ms/step - loss: 4.9065e-05 - val_loss: 0.0017\n",
      "Epoch 44/50\n",
      "10/10 [==============================] - 0s 16ms/step - loss: 3.4920e-04 - val_loss: 1.8406e-04\n",
      "Epoch 45/50\n",
      "10/10 [==============================] - 0s 16ms/step - loss: 5.5414e-05 - val_loss: 6.6857e-05\n",
      "Epoch 46/50\n",
      "10/10 [==============================] - 0s 15ms/step - loss: 2.3178e-05 - val_loss: 1.6186e-05\n",
      "Epoch 47/50\n",
      "10/10 [==============================] - 0s 16ms/step - loss: 3.9284e-05 - val_loss: 2.8127e-04\n",
      "Epoch 48/50\n",
      "10/10 [==============================] - 0s 16ms/step - loss: 2.5311e-05 - val_loss: 3.9323e-04\n",
      "Epoch 49/50\n",
      "10/10 [==============================] - 0s 16ms/step - loss: 5.4598e-05 - val_loss: 6.4113e-05\n",
      "Epoch 50/50\n",
      "10/10 [==============================] - 0s 16ms/step - loss: 2.5726e-05 - val_loss: 7.5141e-04\n"
     ]
    }
   ],
   "source": [
    "history = model.fit_generator(train_generator,\n",
    "                              validation_data=test_generator,\n",
    "                              epochs=50, steps_per_epoch=10)"
   ]
  },
  {
   "cell_type": "markdown",
   "id": "b0ed6b6f",
   "metadata": {},
   "source": [
    "**Training and Validation Loss Checking** "
   ]
  },
  {
   "cell_type": "code",
   "execution_count": 14,
   "id": "07dc6dd4",
   "metadata": {},
   "outputs": [
    {
     "data": {
      "image/png": "[encoded data removed]",
      "text/plain": [
       "<Figure size 640x480 with 1 Axes>"
      ]
     },
     "metadata": {},
     "output_type": "display_data"
    }
   ],
   "source": [
    "# plot the training and validation accuracy and loss at each epoch\n",
    "loss = history.history['loss']\n",
    "val_loss = history.history['val_loss']\n",
    "epochs = range(1, len(loss) + 1)\n",
    "plt.plot(epochs, loss, 'y', label='Training loss')\n",
    "plt.plot(epochs, val_loss, 'r', label='Validation loss')\n",
    "plt.title('Training and validation loss')\n",
    "plt.xlabel('Epochs')\n",
    "plt.ylabel('Loss')\n",
    "plt.legend()\n",
    "plt.show()"
   ]
  },
  {
   "cell_type": "markdown",
   "id": "9303c43b",
   "metadata": {},
   "source": [
    "**Prediction** "
   ]
  },
  {
   "cell_type": "code",
   "execution_count": 15,
   "id": "58de934c",
   "metadata": {},
   "outputs": [],
   "source": [
    "# forecast\n",
    "prediction = []  # Empty list to populate later with predictions\n",
    "\n",
    "current_batch = train_scaled[-seq_size:]  # Final data points in train\n",
    "current_batch = current_batch.reshape(1, seq_size, n_features)  # Reshape"
   ]
  },
  {
   "cell_type": "code",
   "execution_count": 16,
   "id": "6a098a96",
   "metadata": {},
   "outputs": [
    {
     "name": "stdout",
     "output_type": "stream",
     "text": [
      "1/1 [==============================] - 1s 570ms/step\n",
      "1/1 [==============================] - 0s 20ms/step\n",
      "1/1 [==============================] - 0s 29ms/step\n",
      "1/1 [==============================] - 0s 36ms/step\n",
      "1/1 [==============================] - 0s 24ms/step\n",
      "1/1 [==============================] - 0s 23ms/step\n",
      "1/1 [==============================] - 0s 47ms/step\n",
      "1/1 [==============================] - 0s 32ms/step\n",
      "1/1 [==============================] - 0s 35ms/step\n",
      "1/1 [==============================] - 0s 21ms/step\n",
      "1/1 [==============================] - 0s 31ms/step\n",
      "1/1 [==============================] - 0s 47ms/step\n",
      "1/1 [==============================] - 0s 51ms/step\n",
      "1/1 [==============================] - 0s 38ms/step\n",
      "1/1 [==============================] - 0s 34ms/step\n",
      "1/1 [==============================] - 0s 42ms/step\n",
      "1/1 [==============================] - 0s 37ms/step\n",
      "1/1 [==============================] - 0s 36ms/step\n",
      "1/1 [==============================] - 0s 31ms/step\n",
      "1/1 [==============================] - 0s 45ms/step\n",
      "1/1 [==============================] - 0s 40ms/step\n"
     ]
    }
   ],
   "source": [
    "# Predict future, beyond test dates\n",
    "future = 7  # Days\n",
    "for i in range(len(test) + future):\n",
    "    current_pred = model.predict(current_batch)[0]\n",
    "    prediction.append(current_pred)\n",
    "    current_batch = np.append(current_batch[:, 1:, :], [[current_pred]], axis=1)"
   ]
  },
  {
   "cell_type": "code",
   "execution_count": 17,
   "id": "d895b38a",
   "metadata": {},
   "outputs": [],
   "source": [
    "# Inverse transform to before scaling so we get actual numbers\n",
    "rescaled_prediction = scaler.inverse_transform(prediction)\n",
    "\n",
    "time_series_array = test.index  # Get dates for test data"
   ]
  },
  {
   "cell_type": "code",
   "execution_count": 18,
   "id": "c3014b73",
   "metadata": {},
   "outputs": [],
   "source": [
    "# Add new dates for the forecast period\n",
    "for k in range(0, future):\n",
    "    time_series_array = time_series_array.append(time_series_array[-1:] + pd.DateOffset(1))"
   ]
  },
  {
   "cell_type": "code",
   "execution_count": 19,
   "id": "469d384b",
   "metadata": {},
   "outputs": [],
   "source": [
    "# Create a dataframe to capture the forecast data\n",
    "df_forecast = pd.DataFrame(columns=[\"actual_confirmed\", \"predicted\"], index=time_series_array)\n",
    "\n",
    "df_forecast.loc[:, \"predicted\"] = rescaled_prediction[:, 0]\n",
    "df_forecast.loc[:, \"actual_confirmed\"] = test[\"confirmed\"]"
   ]
  },
  {
   "cell_type": "code",
   "execution_count": 20,
   "id": "1b85dd53",
   "metadata": {},
   "outputs": [
    {
     "data": {
      "text/plain": [
       "<Axes: title={'center': 'Predictions for next 7 days'}>"
      ]
     },
     "execution_count": 20,
     "metadata": {},
     "output_type": "execute_result"
    },
    {
     "data": {
      "image/png": "[encoded data removed]",
      "text/plain": [
       "<Figure size 640x480 with 1 Axes>"
      ]
     },
     "metadata": {},
     "output_type": "display_data"
    }
   ],
   "source": [
    "# Plot\n",
    "df_forecast.plot(title=\"Predictions for next 7 days\")"
   ]
  },
  {
   "cell_type": "code",
   "execution_count": null,
   "id": "919a3a12",
   "metadata": {},
   "outputs": [],
   "source": []
  }
 ],
 "metadata": {
  "kernelspec": {
   "display_name": "Python 3 (ipykernel)",
   "language": "python",
   "name": "python3"
  },
  "language_info": {
   "codemirror_mode": {
    "name": "ipython",
    "version": 3
   },
   "file_extension": ".py",
   "mimetype": "text/x-python",
   "name": "python",
   "nbconvert_exporter": "python",
   "pygments_lexer": "ipython3",
   "version": "3.10.12"
  }
 },
 "nbformat": 4,
 "nbformat_minor": 5
}
